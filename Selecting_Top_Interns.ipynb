{
  "nbformat": 4,
  "nbformat_minor": 0,
  "metadata": {
    "colab": {
      "provenance": [],
      "authorship_tag": "ABX9TyPcIBzoubwyhf5xxe4cBBD3",
      "include_colab_link": true
    },
    "kernelspec": {
      "name": "python3",
      "display_name": "Python 3"
    },
    "language_info": {
      "name": "python"
    }
  },
  "cells": [
    {
      "cell_type": "markdown",
      "metadata": {
        "id": "view-in-github",
        "colab_type": "text"
      },
      "source": [
        "<a href=\"https://colab.research.google.com/github/Bindadarsh7/Filtering_Top_Interns/blob/main/Selecting_Top_Interns.ipynb\" target=\"_parent\"><img src=\"https://colab.research.google.com/assets/colab-badge.svg\" alt=\"Open In Colab\"/></a>"
      ]
    },
    {
      "cell_type": "markdown",
      "source": [
        "**1. Importing the pandas library as pd:**"
      ],
      "metadata": {
        "id": "hZbHO2QpOYe1"
      }
    },
    {
      "cell_type": "code",
      "source": [
        "import pandas as pd"
      ],
      "metadata": {
        "id": "AUeNJne1Gxpf"
      },
      "execution_count": 9,
      "outputs": []
    },
    {
      "cell_type": "markdown",
      "source": [
        "**2. Reading the dataset:**"
      ],
      "metadata": {
        "id": "ngg3o59VNsWW"
      }
    },
    {
      "cell_type": "code",
      "source": [
        "data = pd.read_csv('Applications_for_Machine_Learning_internship_edited.csv')"
      ],
      "metadata": {
        "id": "Z6au3j_oG6WL"
      },
      "execution_count": 11,
      "outputs": []
    },
    {
      "cell_type": "markdown",
      "source": [
        "Reads the dataset from a CSV file named **Applications_for_Machine_Learning_internship_edited** and stores it in a pandas DataFrame called **data**."
      ],
      "metadata": {
        "id": "0tPp7GhPN7gc"
      }
    },
    {
      "cell_type": "markdown",
      "source": [
        "**3. Filtering the candidates:**"
      ],
      "metadata": {
        "id": "yktwb8LhOh_h"
      }
    },
    {
      "cell_type": "code",
      "source": [
        "filtered_data = data[\n",
        "    (data['Python (out of 3)'] >= 2) &\n",
        "    (data['Machine Learning (out of 3)'] >= 2) &\n",
        "    (data['Natural Language Processing (NLP) (out of 3)'] >= 2) &\n",
        "    (data['Deep Learning (out of 3)'] >= 2) &\n",
        "    (data['Other skills'].str.contains('machine learning', case=False)) &\n",
        "    (data['Are you available for 3 months, starting immediately, for a full-time work from home internship? '] == 'Yes, I am available for 3 months starting immediately for a full-time internship.')\n",
        "]"
      ],
      "metadata": {
        "id": "R48Q1OakHCP6"
      },
      "execution_count": 17,
      "outputs": []
    },
    {
      "cell_type": "markdown",
      "source": [
        "**This script filters the candidates based on the below criteria:**\n",
        "\n",
        "1. Candidate's rating in **Python, Machine Learning, Natural Language Processing, and Deep Learning** should be greater than or equal to 2.\n",
        "2. Candidate's **Other skills** column should contain the phrase **Machine Learning** as case-insensitive.\n",
        "3. Candidate should be available for a 3 month.\n",
        "4. Filtered candidates are stored in a new dataframe called **filtered_data**."
      ],
      "metadata": {
        "id": "OathvPajOxRc"
      }
    },
    {
      "cell_type": "markdown",
      "source": [
        "**4. Sorting the filtered candidates based on academic performance:**"
      ],
      "metadata": {
        "id": "jaMxPvKePrqo"
      }
    },
    {
      "cell_type": "code",
      "source": [
        "sorted_data = filtered_data.sort_values(\n",
        "    by=['Performance_PG', 'Performance_UG'],\n",
        "    ascending=[False, False]\n",
        ")"
      ],
      "metadata": {
        "id": "yObdfH7oHIVJ"
      },
      "execution_count": 29,
      "outputs": []
    },
    {
      "cell_type": "markdown",
      "source": [
        "Sort the filtered candidates based on their performance in PG and UG.\n",
        "The **Performance_PG** and **Performance_UG** columns are used for sorting.\n",
        "The candidates with the higher performance ratings will appear at the top of the sorted dataframe."
      ],
      "metadata": {
        "id": "pDCkrjEUQCVM"
      }
    },
    {
      "cell_type": "markdown",
      "source": [
        "**5. Select the top 50 interns:**"
      ],
      "metadata": {
        "id": "j1DHTrkIRvEa"
      }
    },
    {
      "cell_type": "code",
      "source": [
        "top_interns = sorted_data.head(50)"
      ],
      "metadata": {
        "id": "BWMo02upHKYX"
      },
      "execution_count": 31,
      "outputs": []
    },
    {
      "cell_type": "markdown",
      "source": [
        "Select the top 50 interns from the sorted dataframe and stores them in a new dataframe called **top_interns**."
      ],
      "metadata": {
        "id": "xOmD8tdfSFqi"
      }
    },
    {
      "cell_type": "code",
      "source": [
        "top_interns"
      ],
      "metadata": {
        "id": "caGvye-kGVrT"
      },
      "execution_count": null,
      "outputs": []
    }
  ]
}